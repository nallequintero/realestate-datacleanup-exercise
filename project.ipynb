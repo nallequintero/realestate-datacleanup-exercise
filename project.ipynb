{
 "cells": [
  {
   "attachments": {},
   "cell_type": "markdown",
   "id": "innocent-university",
   "metadata": {},
   "source": [
    "# Real Estate Clean up\n",
    "\n",
    "This is a real dataset, and it was downloaded using web scraping techniques. The data contains registers from **Fotocasa** which is one of the most popular real estate websites in Spain. Please, do not do this (web scraping) unless it is for academic purposes.\n",
    "\n",
    "The dataset was downloaded a few years ago by Henry Navarro, and in no case were economic returns obtained from it.\n",
    "\n",
    "It contains thousands of data from real houses published on the web www.fotocasa.com. Your goal is to extract as much information as possible with the knowledge you have so far about data science, for example what is the most expensive house in the entire dataset?\n",
    "\n",
    "Let's start with precisely that question... Good luck!"
   ]
  },
  {
   "attachments": {},
   "cell_type": "markdown",
   "id": "multiple-glass",
   "metadata": {},
   "source": [
    "#### Exercise 00. Read the dataset assets/real_estate.csv and try to visualize the table (★☆☆)"
   ]
  },
  {
   "cell_type": "code",
   "execution_count": 1,
   "id": "frank-heath",
   "metadata": {},
   "outputs": [
    {
     "data": {
      "text/html": [
       "<div>\n",
       "<style scoped>\n",
       "    .dataframe tbody tr th:only-of-type {\n",
       "        vertical-align: middle;\n",
       "    }\n",
       "\n",
       "    .dataframe tbody tr th {\n",
       "        vertical-align: top;\n",
       "    }\n",
       "\n",
       "    .dataframe thead th {\n",
       "        text-align: right;\n",
       "    }\n",
       "</style>\n",
       "<table border=\"1\" class=\"dataframe\">\n",
       "  <thead>\n",
       "    <tr style=\"text-align: right;\">\n",
       "      <th></th>\n",
       "      <th>0</th>\n",
       "      <th>1</th>\n",
       "      <th>2</th>\n",
       "      <th>3</th>\n",
       "      <th>4</th>\n",
       "    </tr>\n",
       "  </thead>\n",
       "  <tbody>\n",
       "    <tr>\n",
       "      <th>Unnamed: 0</th>\n",
       "      <td>1</td>\n",
       "      <td>2</td>\n",
       "      <td>3</td>\n",
       "      <td>4</td>\n",
       "      <td>5</td>\n",
       "    </tr>\n",
       "    <tr>\n",
       "      <th>id_realEstates</th>\n",
       "      <td>153771986</td>\n",
       "      <td>153867863</td>\n",
       "      <td>153430440</td>\n",
       "      <td>152776331</td>\n",
       "      <td>153180188</td>\n",
       "    </tr>\n",
       "    <tr>\n",
       "      <th>isNew</th>\n",
       "      <td>False</td>\n",
       "      <td>False</td>\n",
       "      <td>False</td>\n",
       "      <td>False</td>\n",
       "      <td>False</td>\n",
       "    </tr>\n",
       "    <tr>\n",
       "      <th>realEstate_name</th>\n",
       "      <td>ferrari 57 inmobiliaria</td>\n",
       "      <td>tecnocasa fuenlabrada ferrocarril</td>\n",
       "      <td>look find boadilla</td>\n",
       "      <td>tecnocasa fuenlabrada ferrocarril</td>\n",
       "      <td>ferrari 57 inmobiliaria</td>\n",
       "    </tr>\n",
       "    <tr>\n",
       "      <th>phone_realEstate</th>\n",
       "      <td>912177526.0</td>\n",
       "      <td>916358736.0</td>\n",
       "      <td>916350408.0</td>\n",
       "      <td>916358736.0</td>\n",
       "      <td>912177526.0</td>\n",
       "    </tr>\n",
       "    <tr>\n",
       "      <th>url_inmueble</th>\n",
       "      <td>https://www.fotocasa.es/es/comprar/vivienda/ma...</td>\n",
       "      <td>https://www.fotocasa.es/es/comprar/vivienda/ma...</td>\n",
       "      <td>https://www.fotocasa.es/es/comprar/vivienda/ma...</td>\n",
       "      <td>https://www.fotocasa.es/es/comprar/vivienda/ma...</td>\n",
       "      <td>https://www.fotocasa.es/es/comprar/vivienda/ma...</td>\n",
       "    </tr>\n",
       "    <tr>\n",
       "      <th>rooms</th>\n",
       "      <td>3.0</td>\n",
       "      <td>3.0</td>\n",
       "      <td>2.0</td>\n",
       "      <td>3.0</td>\n",
       "      <td>2.0</td>\n",
       "    </tr>\n",
       "    <tr>\n",
       "      <th>bathrooms</th>\n",
       "      <td>2.0</td>\n",
       "      <td>1.0</td>\n",
       "      <td>2.0</td>\n",
       "      <td>1.0</td>\n",
       "      <td>2.0</td>\n",
       "    </tr>\n",
       "    <tr>\n",
       "      <th>surface</th>\n",
       "      <td>103.0</td>\n",
       "      <td>NaN</td>\n",
       "      <td>99.0</td>\n",
       "      <td>86.0</td>\n",
       "      <td>106.0</td>\n",
       "    </tr>\n",
       "    <tr>\n",
       "      <th>price</th>\n",
       "      <td>195000</td>\n",
       "      <td>89000</td>\n",
       "      <td>390000</td>\n",
       "      <td>89000</td>\n",
       "      <td>172000</td>\n",
       "    </tr>\n",
       "    <tr>\n",
       "      <th>date</th>\n",
       "      <td>2019-12-28T18:27:15.9975027Z</td>\n",
       "      <td>2019-12-28T18:27:15.9975027Z</td>\n",
       "      <td>2019-12-28T18:27:15.9975027Z</td>\n",
       "      <td>2019-12-28T18:27:15.9975027Z</td>\n",
       "      <td>2019-12-28T18:27:15.9975027Z</td>\n",
       "    </tr>\n",
       "    <tr>\n",
       "      <th>description</th>\n",
       "      <td>Ponemos a la venta piso de 3 dormitorios con t...</td>\n",
       "      <td>\"\"Agencia inmobiliaria de FUENLABRADA - zona F...</td>\n",
       "      <td>Lookandfind Boadilla, vende en exclusiva, piso...</td>\n",
       "      <td>Agencia inmobiliaria de FUENLABRADA - zona Fue...</td>\n",
       "      <td>PISOS DE OBRA NUEVA DE 2 Y 3 DORMITORIOS. OBRA...</td>\n",
       "    </tr>\n",
       "    <tr>\n",
       "      <th>address</th>\n",
       "      <td>Calle Presidente Felipe Gonzalez, Arganda del Rey</td>\n",
       "      <td>Calle Polvoranca, 6, Fuenlabrada</td>\n",
       "      <td>Calle Reyes Católicos, Boadilla del Monte</td>\n",
       "      <td>Barrio San Andres, Fuenlabrada</td>\n",
       "      <td>Arganda del Rey</td>\n",
       "    </tr>\n",
       "    <tr>\n",
       "      <th>country</th>\n",
       "      <td>España</td>\n",
       "      <td>España</td>\n",
       "      <td>España</td>\n",
       "      <td>España</td>\n",
       "      <td>España</td>\n",
       "    </tr>\n",
       "    <tr>\n",
       "      <th>level1</th>\n",
       "      <td>Madrid</td>\n",
       "      <td>Madrid</td>\n",
       "      <td>Madrid</td>\n",
       "      <td>Madrid</td>\n",
       "      <td>Madrid</td>\n",
       "    </tr>\n",
       "    <tr>\n",
       "      <th>level2</th>\n",
       "      <td>Madrid</td>\n",
       "      <td>Madrid</td>\n",
       "      <td>Madrid</td>\n",
       "      <td>Madrid</td>\n",
       "      <td>Madrid</td>\n",
       "    </tr>\n",
       "    <tr>\n",
       "      <th>level3</th>\n",
       "      <td>Madrid Sureste - Cuenca Tajuña</td>\n",
       "      <td>Zona Sur de Madrid</td>\n",
       "      <td>Zona Noroeste</td>\n",
       "      <td>Zona Sur de Madrid</td>\n",
       "      <td>Madrid Sureste - Cuenca Tajuña</td>\n",
       "    </tr>\n",
       "    <tr>\n",
       "      <th>level4</th>\n",
       "      <td>Arganda del Rey, Zona de</td>\n",
       "      <td>Fuenlabrada, Zona de</td>\n",
       "      <td>Boadilla del Monte, Zona de</td>\n",
       "      <td>Fuenlabrada, Zona de</td>\n",
       "      <td>Arganda del Rey, Zona de</td>\n",
       "    </tr>\n",
       "    <tr>\n",
       "      <th>level5</th>\n",
       "      <td>Arganda del Rey</td>\n",
       "      <td>Fuenlabrada</td>\n",
       "      <td>Boadilla del Monte</td>\n",
       "      <td>Fuenlabrada</td>\n",
       "      <td>Arganda del Rey</td>\n",
       "    </tr>\n",
       "    <tr>\n",
       "      <th>level6</th>\n",
       "      <td>NaN</td>\n",
       "      <td>NaN</td>\n",
       "      <td>NaN</td>\n",
       "      <td>NaN</td>\n",
       "      <td>NaN</td>\n",
       "    </tr>\n",
       "    <tr>\n",
       "      <th>level7</th>\n",
       "      <td>Perlita</td>\n",
       "      <td>Centro</td>\n",
       "      <td>Sector B</td>\n",
       "      <td>Centro</td>\n",
       "      <td>Centro</td>\n",
       "    </tr>\n",
       "    <tr>\n",
       "      <th>level8</th>\n",
       "      <td>NaN</td>\n",
       "      <td>NaN</td>\n",
       "      <td>NaN</td>\n",
       "      <td>NaN</td>\n",
       "      <td>NaN</td>\n",
       "    </tr>\n",
       "    <tr>\n",
       "      <th>upperLevel</th>\n",
       "      <td>Perlita</td>\n",
       "      <td>Centro</td>\n",
       "      <td>Sector B</td>\n",
       "      <td>Centro</td>\n",
       "      <td>Centro</td>\n",
       "    </tr>\n",
       "    <tr>\n",
       "      <th>countryId</th>\n",
       "      <td>0</td>\n",
       "      <td>0</td>\n",
       "      <td>0</td>\n",
       "      <td>0</td>\n",
       "      <td>0</td>\n",
       "    </tr>\n",
       "    <tr>\n",
       "      <th>level1Id</th>\n",
       "      <td>0</td>\n",
       "      <td>0</td>\n",
       "      <td>0</td>\n",
       "      <td>0</td>\n",
       "      <td>0</td>\n",
       "    </tr>\n",
       "    <tr>\n",
       "      <th>level2Id</th>\n",
       "      <td>0</td>\n",
       "      <td>0</td>\n",
       "      <td>0</td>\n",
       "      <td>0</td>\n",
       "      <td>0</td>\n",
       "    </tr>\n",
       "    <tr>\n",
       "      <th>level3Id</th>\n",
       "      <td>0</td>\n",
       "      <td>0</td>\n",
       "      <td>0</td>\n",
       "      <td>0</td>\n",
       "      <td>0</td>\n",
       "    </tr>\n",
       "    <tr>\n",
       "      <th>level4Id</th>\n",
       "      <td>0</td>\n",
       "      <td>0</td>\n",
       "      <td>0</td>\n",
       "      <td>0</td>\n",
       "      <td>0</td>\n",
       "    </tr>\n",
       "    <tr>\n",
       "      <th>level5Id</th>\n",
       "      <td>0</td>\n",
       "      <td>0</td>\n",
       "      <td>0</td>\n",
       "      <td>0</td>\n",
       "      <td>0</td>\n",
       "    </tr>\n",
       "    <tr>\n",
       "      <th>level6Id</th>\n",
       "      <td>0</td>\n",
       "      <td>0</td>\n",
       "      <td>0</td>\n",
       "      <td>0</td>\n",
       "      <td>0</td>\n",
       "    </tr>\n",
       "    <tr>\n",
       "      <th>level7Id</th>\n",
       "      <td>0</td>\n",
       "      <td>0</td>\n",
       "      <td>0</td>\n",
       "      <td>0</td>\n",
       "      <td>0</td>\n",
       "    </tr>\n",
       "    <tr>\n",
       "      <th>level8Id</th>\n",
       "      <td>0</td>\n",
       "      <td>0</td>\n",
       "      <td>0</td>\n",
       "      <td>0</td>\n",
       "      <td>0</td>\n",
       "    </tr>\n",
       "    <tr>\n",
       "      <th>accuracy</th>\n",
       "      <td>0</td>\n",
       "      <td>1</td>\n",
       "      <td>0</td>\n",
       "      <td>0</td>\n",
       "      <td>0</td>\n",
       "    </tr>\n",
       "    <tr>\n",
       "      <th>latitude</th>\n",
       "      <td>40,2948276786438</td>\n",
       "      <td>40,28674</td>\n",
       "      <td>40,4115646786438</td>\n",
       "      <td>40,2853785786438</td>\n",
       "      <td>40,2998774864376</td>\n",
       "    </tr>\n",
       "    <tr>\n",
       "      <th>longitude</th>\n",
       "      <td>-3,44402412135624</td>\n",
       "      <td>-3,79351</td>\n",
       "      <td>-3,90662252135624</td>\n",
       "      <td>-3,79508142135624</td>\n",
       "      <td>-3,45226301356237</td>\n",
       "    </tr>\n",
       "    <tr>\n",
       "      <th>zipCode</th>\n",
       "      <td>NaN</td>\n",
       "      <td>NaN</td>\n",
       "      <td>NaN</td>\n",
       "      <td>NaN</td>\n",
       "      <td>NaN</td>\n",
       "    </tr>\n",
       "    <tr>\n",
       "      <th>customZone</th>\n",
       "      <td>NaN</td>\n",
       "      <td>NaN</td>\n",
       "      <td>NaN</td>\n",
       "      <td>NaN</td>\n",
       "      <td>NaN</td>\n",
       "    </tr>\n",
       "  </tbody>\n",
       "</table>\n",
       "</div>"
      ],
      "text/plain": [
       "                                                                  0  \\\n",
       "Unnamed: 0                                                        1   \n",
       "id_realEstates                                            153771986   \n",
       "isNew                                                         False   \n",
       "realEstate_name                             ferrari 57 inmobiliaria   \n",
       "phone_realEstate                                        912177526.0   \n",
       "url_inmueble      https://www.fotocasa.es/es/comprar/vivienda/ma...   \n",
       "rooms                                                           3.0   \n",
       "bathrooms                                                       2.0   \n",
       "surface                                                       103.0   \n",
       "price                                                        195000   \n",
       "date                                   2019-12-28T18:27:15.9975027Z   \n",
       "description       Ponemos a la venta piso de 3 dormitorios con t...   \n",
       "address           Calle Presidente Felipe Gonzalez, Arganda del Rey   \n",
       "country                                                      España   \n",
       "level1                                                       Madrid   \n",
       "level2                                                       Madrid   \n",
       "level3                               Madrid Sureste - Cuenca Tajuña   \n",
       "level4                                     Arganda del Rey, Zona de   \n",
       "level5                                              Arganda del Rey   \n",
       "level6                                                          NaN   \n",
       "level7                                                      Perlita   \n",
       "level8                                                          NaN   \n",
       "upperLevel                                                  Perlita   \n",
       "countryId                                                         0   \n",
       "level1Id                                                          0   \n",
       "level2Id                                                          0   \n",
       "level3Id                                                          0   \n",
       "level4Id                                                          0   \n",
       "level5Id                                                          0   \n",
       "level6Id                                                          0   \n",
       "level7Id                                                          0   \n",
       "level8Id                                                          0   \n",
       "accuracy                                                          0   \n",
       "latitude                                           40,2948276786438   \n",
       "longitude                                         -3,44402412135624   \n",
       "zipCode                                                         NaN   \n",
       "customZone                                                      NaN   \n",
       "\n",
       "                                                                  1  \\\n",
       "Unnamed: 0                                                        2   \n",
       "id_realEstates                                            153867863   \n",
       "isNew                                                         False   \n",
       "realEstate_name                   tecnocasa fuenlabrada ferrocarril   \n",
       "phone_realEstate                                        916358736.0   \n",
       "url_inmueble      https://www.fotocasa.es/es/comprar/vivienda/ma...   \n",
       "rooms                                                           3.0   \n",
       "bathrooms                                                       1.0   \n",
       "surface                                                         NaN   \n",
       "price                                                         89000   \n",
       "date                                   2019-12-28T18:27:15.9975027Z   \n",
       "description       \"\"Agencia inmobiliaria de FUENLABRADA - zona F...   \n",
       "address                            Calle Polvoranca, 6, Fuenlabrada   \n",
       "country                                                      España   \n",
       "level1                                                       Madrid   \n",
       "level2                                                       Madrid   \n",
       "level3                                           Zona Sur de Madrid   \n",
       "level4                                         Fuenlabrada, Zona de   \n",
       "level5                                                  Fuenlabrada   \n",
       "level6                                                          NaN   \n",
       "level7                                                       Centro   \n",
       "level8                                                          NaN   \n",
       "upperLevel                                                   Centro   \n",
       "countryId                                                         0   \n",
       "level1Id                                                          0   \n",
       "level2Id                                                          0   \n",
       "level3Id                                                          0   \n",
       "level4Id                                                          0   \n",
       "level5Id                                                          0   \n",
       "level6Id                                                          0   \n",
       "level7Id                                                          0   \n",
       "level8Id                                                          0   \n",
       "accuracy                                                          1   \n",
       "latitude                                                   40,28674   \n",
       "longitude                                                  -3,79351   \n",
       "zipCode                                                         NaN   \n",
       "customZone                                                      NaN   \n",
       "\n",
       "                                                                  2  \\\n",
       "Unnamed: 0                                                        3   \n",
       "id_realEstates                                            153430440   \n",
       "isNew                                                         False   \n",
       "realEstate_name                                  look find boadilla   \n",
       "phone_realEstate                                        916350408.0   \n",
       "url_inmueble      https://www.fotocasa.es/es/comprar/vivienda/ma...   \n",
       "rooms                                                           2.0   \n",
       "bathrooms                                                       2.0   \n",
       "surface                                                        99.0   \n",
       "price                                                        390000   \n",
       "date                                   2019-12-28T18:27:15.9975027Z   \n",
       "description       Lookandfind Boadilla, vende en exclusiva, piso...   \n",
       "address                   Calle Reyes Católicos, Boadilla del Monte   \n",
       "country                                                      España   \n",
       "level1                                                       Madrid   \n",
       "level2                                                       Madrid   \n",
       "level3                                                Zona Noroeste   \n",
       "level4                                  Boadilla del Monte, Zona de   \n",
       "level5                                           Boadilla del Monte   \n",
       "level6                                                          NaN   \n",
       "level7                                                     Sector B   \n",
       "level8                                                          NaN   \n",
       "upperLevel                                                 Sector B   \n",
       "countryId                                                         0   \n",
       "level1Id                                                          0   \n",
       "level2Id                                                          0   \n",
       "level3Id                                                          0   \n",
       "level4Id                                                          0   \n",
       "level5Id                                                          0   \n",
       "level6Id                                                          0   \n",
       "level7Id                                                          0   \n",
       "level8Id                                                          0   \n",
       "accuracy                                                          0   \n",
       "latitude                                           40,4115646786438   \n",
       "longitude                                         -3,90662252135624   \n",
       "zipCode                                                         NaN   \n",
       "customZone                                                      NaN   \n",
       "\n",
       "                                                                  3  \\\n",
       "Unnamed: 0                                                        4   \n",
       "id_realEstates                                            152776331   \n",
       "isNew                                                         False   \n",
       "realEstate_name                   tecnocasa fuenlabrada ferrocarril   \n",
       "phone_realEstate                                        916358736.0   \n",
       "url_inmueble      https://www.fotocasa.es/es/comprar/vivienda/ma...   \n",
       "rooms                                                           3.0   \n",
       "bathrooms                                                       1.0   \n",
       "surface                                                        86.0   \n",
       "price                                                         89000   \n",
       "date                                   2019-12-28T18:27:15.9975027Z   \n",
       "description       Agencia inmobiliaria de FUENLABRADA - zona Fue...   \n",
       "address                              Barrio San Andres, Fuenlabrada   \n",
       "country                                                      España   \n",
       "level1                                                       Madrid   \n",
       "level2                                                       Madrid   \n",
       "level3                                           Zona Sur de Madrid   \n",
       "level4                                         Fuenlabrada, Zona de   \n",
       "level5                                                  Fuenlabrada   \n",
       "level6                                                          NaN   \n",
       "level7                                                       Centro   \n",
       "level8                                                          NaN   \n",
       "upperLevel                                                   Centro   \n",
       "countryId                                                         0   \n",
       "level1Id                                                          0   \n",
       "level2Id                                                          0   \n",
       "level3Id                                                          0   \n",
       "level4Id                                                          0   \n",
       "level5Id                                                          0   \n",
       "level6Id                                                          0   \n",
       "level7Id                                                          0   \n",
       "level8Id                                                          0   \n",
       "accuracy                                                          0   \n",
       "latitude                                           40,2853785786438   \n",
       "longitude                                         -3,79508142135624   \n",
       "zipCode                                                         NaN   \n",
       "customZone                                                      NaN   \n",
       "\n",
       "                                                                  4  \n",
       "Unnamed: 0                                                        5  \n",
       "id_realEstates                                            153180188  \n",
       "isNew                                                         False  \n",
       "realEstate_name                             ferrari 57 inmobiliaria  \n",
       "phone_realEstate                                        912177526.0  \n",
       "url_inmueble      https://www.fotocasa.es/es/comprar/vivienda/ma...  \n",
       "rooms                                                           2.0  \n",
       "bathrooms                                                       2.0  \n",
       "surface                                                       106.0  \n",
       "price                                                        172000  \n",
       "date                                   2019-12-28T18:27:15.9975027Z  \n",
       "description       PISOS DE OBRA NUEVA DE 2 Y 3 DORMITORIOS. OBRA...  \n",
       "address                                             Arganda del Rey  \n",
       "country                                                      España  \n",
       "level1                                                       Madrid  \n",
       "level2                                                       Madrid  \n",
       "level3                               Madrid Sureste - Cuenca Tajuña  \n",
       "level4                                     Arganda del Rey, Zona de  \n",
       "level5                                              Arganda del Rey  \n",
       "level6                                                          NaN  \n",
       "level7                                                       Centro  \n",
       "level8                                                          NaN  \n",
       "upperLevel                                                   Centro  \n",
       "countryId                                                         0  \n",
       "level1Id                                                          0  \n",
       "level2Id                                                          0  \n",
       "level3Id                                                          0  \n",
       "level4Id                                                          0  \n",
       "level5Id                                                          0  \n",
       "level6Id                                                          0  \n",
       "level7Id                                                          0  \n",
       "level8Id                                                          0  \n",
       "accuracy                                                          0  \n",
       "latitude                                           40,2998774864376  \n",
       "longitude                                         -3,45226301356237  \n",
       "zipCode                                                         NaN  \n",
       "customZone                                                      NaN  "
      ]
     },
     "execution_count": 1,
     "metadata": {},
     "output_type": "execute_result"
    }
   ],
   "source": [
    "import pandas as pd\n",
    "import numpy as np\n",
    "import matplotlib.pyplot as plt\n",
    "\n",
    "\n",
    "# This CSV file contains semicolons instead of comas as separator\n",
    "ds = pd.read_csv('assets/real_estate.csv', sep=';')\n",
    "ds.head(5).T"
   ]
  },
  {
   "attachments": {},
   "cell_type": "markdown",
   "id": "latin-guest",
   "metadata": {},
   "source": [
    "#### Exercise 01. Which is the most expensive house in the dataset? (★☆☆)\n",
    "\n",
    "Print the address and the price of the selected house. For example:\n",
    "\n",
    "`The house with address General Street Nº5 is the most expensive and its price is 5000000 USD`"
   ]
  },
  {
   "cell_type": "code",
   "execution_count": 2,
   "id": "developing-optimum",
   "metadata": {},
   "outputs": [
    {
     "name": "stdout",
     "output_type": "stream",
     "text": [
      "The house with address El Escorial is the most expensive and its price is 8500000 USD\n"
     ]
    }
   ],
   "source": [
    "# TODO\n",
    "ds = ds.sort_values(by=[\"price\"], ascending=False)\n",
    "\n",
    "print(f'The house with address {ds[\"address\"].iloc[0]} is the most expensive and its price is {ds[\"price\"].iloc[0]} USD')"
   ]
  },
  {
   "attachments": {},
   "cell_type": "markdown",
   "id": "lesser-cosmetic",
   "metadata": {},
   "source": [
    "#### Exercise 02. Which is the cheapest house in the dataset? (★☆☆)\n",
    "\n",
    "Print the address and the price of the selected house. For example:\n",
    "\n",
    "`The house with address Concrete Street Nº1 is the cheapest and its price is 12000 USD`"
   ]
  },
  {
   "cell_type": "code",
   "execution_count": 3,
   "id": "lovely-oasis",
   "metadata": {},
   "outputs": [
    {
     "name": "stdout",
     "output_type": "stream",
     "text": [
      "The house with address Plaza Canto Redondo, 5, Getafe is the cheapest and its price is 0\n"
     ]
    }
   ],
   "source": [
    "# TODO\n",
    "ds = ds.sort_values(by=[\"price\"], ascending=True)\n",
    "\n",
    "print(f'The house with address {ds[\"address\"].iloc[0]} is the cheapest and its price is {ds[\"price\"].iloc[0]}')"
   ]
  },
  {
   "attachments": {},
   "cell_type": "markdown",
   "id": "compliant-fellowship",
   "metadata": {},
   "source": [
    "#### Exercise 03. Which is the biggest and the smallest house in the dataset? (★☆☆)\n",
    "\n",
    "Print both the address and the surface of the selected houses. For example:\n",
    "\n",
    "`The biggest house is located on Yukka Street Nº10 and its surface is 5000 meters`\n",
    "\n",
    "`The smallest house is located on County Road 1 N and its surface is 200 meters`"
   ]
  },
  {
   "cell_type": "code",
   "execution_count": 4,
   "id": "every-tiffany",
   "metadata": {},
   "outputs": [
    {
     "name": "stdout",
     "output_type": "stream",
     "text": [
      "The biggest house is located on Sevilla la Nueva and its surface is 249000.0 USD\n",
      "The smallest house is located on Calle Amparo,  Madrid Capital and its surface is 15.0 USD\n"
     ]
    }
   ],
   "source": [
    "# TODO\n",
    "ds = ds.sort_values(by=[\"surface\"], ascending=False)\n",
    "\n",
    "print(f'The biggest house is located on {ds[\"address\"].iloc[0]} and its surface is {ds[\"surface\"].iloc[0]} USD')\n",
    "\n",
    "ds = ds.sort_values(by=[\"surface\"], ascending=True)\n",
    "\n",
    "print(f'The smallest house is located on {ds[\"address\"].iloc[0]} and its surface is {ds[\"surface\"].iloc[0]} USD')"
   ]
  },
  {
   "attachments": {},
   "cell_type": "markdown",
   "id": "danish-spirit",
   "metadata": {},
   "source": [
    "#### Exercise 04. How many populations (level5 column) the dataset contains? (★☆☆)\n",
    "\n",
    "Print the names of the populations with a comma as a separator. For example:\n",
    "\n",
    "`> print(populations)`\n",
    "\n",
    "`population1, population2, population3, ...`"
   ]
  },
  {
   "cell_type": "code",
   "execution_count": 5,
   "id": "exciting-accreditation",
   "metadata": {},
   "outputs": [
    {
     "name": "stdout",
     "output_type": "stream",
     "text": [
      " Madrid Capital,Ajalvir,Alcalá de Henares,Alcobendas,Alcorcón,Aldea del Fresno,Algete,Alpedrete,Ambite,Anchuelo,Aranjuez,Arganda del Rey,Arroyomolinos (Madrid),Batres,Becerril de la Sierra,Belmonte de Tajo,Boadilla del Monte,Braojos,Brea de Tajo,Brunete,Buitrago del Lozoya,Bustarviejo,Cabanillas de la Sierra,Cadalso de los Vidrios,Camarma de Esteruelas,Campo Real,Canencia,Carabaña,Casarrubuelos,Cenicientos,Cercedilla,Chapinería,Chinchón,Ciempozuelos,Cobeña,Collado Mediano,Collado Villalba,Colmenar Viejo,Colmenar de Oreja,Colmenar del Arroyo,Colmenarejo,Corpa,Coslada,Cubas de la Sagra,Daganzo de Arriba,El Atazar,El Berrueco,El Boalo - Cerceda – Mataelpino,El Escorial,El Molar (Madrid),El Vellón,El Álamo,Estremera,Fresnedillas de la Oliva,Fresno de Torote,Fresno de Torote - Serracines,Fuenlabrada,Fuente El Saz de Jarama,Fuentidueña de Tajo,Galapagar,Garganta de los Montes,Gargantilla del Lozoya,Gascones,Getafe,Griñón,Guadalix de la Sierra,Guadarrama,Horcajo de la Sierra,Hoyo de Manzanares,Humanes de Madrid,La Cabrera,La Hiruela,Las Rozas de Madrid,Leganés,Loeches,Los Molinos,Los Santos de la Humosa,Lozoya,Lozoyuela-navas-sieteiglesias,Madarcos,Majadahonda,Manzanares El Real,Meco,Mejorada del Campo,Miraflores de la Sierra,Montejo de la Sierra,Moraleja de Enmedio,Moralzarzal,Morata de Tajuña,Móstoles,Navacerrada,Navalafuente,Navalagamella,Navalcarnero,Navarredonda,Navas del Rey,Nuevo Baztán,Orusco de Tajuña,Paracuellos de Jarama,Parla,Patones,Pedrezuela,Pelayos de la Presa,Perales de Tajuña,Pezuela de las Torres,Pinilla del Valle,Pinto,Piñuécar-gandullas,Pozuelo de Alarcón,Pozuelo del Rey,Puentes Viejas,Quijorna,Rascafría,Redueña,Ribatejada,Rivas-vaciamadrid,Robledo de Chavela,Robregordo,San Agustín del Guadalix,San Fernando de Henares,San Lorenzo de El Escorial,San Martín de Valdeiglesias,San Martín de la Vega,San Sebastián de los Reyes,Santa María de la Alameda,Santorcaz,Serranillos del Valle,Sevilla la Nueva,Soto del Real,Talamanca de Jarama,Tielmes,Titulcia,Torrejón de Ardoz,Torrejón de Velasco,Torrejón de la Calzada,Torrelaguna,Torrelodones,Torremocha de Jarama,Torres de la Alameda,Tres Cantos,Valdaracete,Valdeavero,Valdelaguna,Valdemanco,Valdemaqueda,Valdemorillo,Valdemoro,Valdeolmos-Alalpardo,Valdepiélagos,Valdetorres de Jarama,Valdilecha,Valverde de Alcalá,Velilla de San Antonio,Venturada,Villa del Prado,Villaconejos,Villalbilla,Villamanrique de Tajo,Villamanta,Villamantilla,Villanueva de Perales,Villanueva de la Cañada,Villanueva del Pardillo,Villar del Olmo,Villarejo de Salvanés,Villaviciosa de Odón,Villavieja del Lozoya,Zarzalejo\n"
     ]
    }
   ],
   "source": [
    "# TODO\n",
    "# Convertir 'level5' en categórica\n",
    "ds['level5'] = ds['level5'].astype('category')\n",
    "\n",
    "# los valores unicos de la variable, los separo por ,\n",
    "populations = ','.join(ds['level5'].cat.categories) #.join me sirve para unir\n",
    "\n",
    "# Imprimir los niveles\n",
    "print(populations)"
   ]
  },
  {
   "attachments": {},
   "cell_type": "markdown",
   "id": "crazy-blame",
   "metadata": {},
   "source": [
    "#### Exercise 05. Does the dataset contain NAs? (★☆☆)\n",
    "\n",
    "Print a boolean value (`True` or `False`) followed by the rows/cols that contains NAs."
   ]
  },
  {
   "cell_type": "code",
   "execution_count": 6,
   "id": "transparent-poetry",
   "metadata": {},
   "outputs": [
    {
     "data": {
      "text/plain": [
       "Unnamed: 0          False\n",
       "id_realEstates      False\n",
       "isNew               False\n",
       "realEstate_name      True\n",
       "phone_realEstate     True\n",
       "url_inmueble        False\n",
       "rooms                True\n",
       "bathrooms            True\n",
       "surface              True\n",
       "price               False\n",
       "date                False\n",
       "description          True\n",
       "address             False\n",
       "country             False\n",
       "level1              False\n",
       "level2              False\n",
       "level3              False\n",
       "level4               True\n",
       "level5              False\n",
       "level6               True\n",
       "level7               True\n",
       "level8               True\n",
       "upperLevel          False\n",
       "countryId           False\n",
       "level1Id            False\n",
       "level2Id            False\n",
       "level3Id            False\n",
       "level4Id            False\n",
       "level5Id            False\n",
       "level6Id            False\n",
       "level7Id            False\n",
       "level8Id            False\n",
       "accuracy            False\n",
       "latitude            False\n",
       "longitude           False\n",
       "zipCode              True\n",
       "customZone           True\n",
       "dtype: bool"
      ]
     },
     "execution_count": 6,
     "metadata": {},
     "output_type": "execute_result"
    }
   ],
   "source": [
    "# TODO\n",
    "# vemos las columnas que contienen Na\n",
    "ds.isnull().any(axis=0) # axis 0 es para las columnas"
   ]
  },
  {
   "cell_type": "code",
   "execution_count": 8,
   "id": "f863cac8",
   "metadata": {},
   "outputs": [
    {
     "data": {
      "text/plain": [
       "498      True\n",
       "15320    True\n",
       "14361    True\n",
       "9682     True\n",
       "1888     True\n",
       "         ... \n",
       "5659     True\n",
       "7775     True\n",
       "5683     True\n",
       "1167     True\n",
       "13110    True\n",
       "Length: 15335, dtype: bool"
      ]
     },
     "execution_count": 8,
     "metadata": {},
     "output_type": "execute_result"
    }
   ],
   "source": [
    "ds.isnull().any(axis=1) #axis 1 para las filas"
   ]
  },
  {
   "attachments": {},
   "cell_type": "markdown",
   "id": "italic-hydrogen",
   "metadata": {},
   "source": [
    "#### Exercise 06. Delete the NAs of the dataset, if applicable (★★☆)\n",
    "\n",
    "Print a comparison between the dimensions of the original DataFrame versus the DataFrame after the deletions."
   ]
  },
  {
   "cell_type": "code",
   "execution_count": 9,
   "id": "administrative-roads",
   "metadata": {},
   "outputs": [
    {
     "name": "stdout",
     "output_type": "stream",
     "text": [
      "The dimensions of the original DataFrame is:(15335, 37) \n",
      "versus the DataFrame after the deletions is:(14677, 34)\n"
     ]
    }
   ],
   "source": [
    "# TODO\n",
    "dimension_ds_original = ds.shape\n",
    "na_percentage = ds.isnull().mean() * 100\n",
    "\n",
    "variable_90_NA = na_percentage[na_percentage>=90]\n",
    "#variable_90_NA #vemos las columnas con mas del 90 %\n",
    "\n",
    "# elimino las variables que tienen mas del 90% de NA\n",
    "ds_baking = ds.copy()\n",
    "ds_baking = ds_baking.drop(['level6','zipCode','customZone'], axis=1)\n",
    "\n",
    "#elimimo las filas de las variables que tengan 3% o menos de NA\n",
    "\n",
    "variable_3_NA = na_percentage[(na_percentage > 0) & (na_percentage <= 3)]\n",
    "#variable_3_NA\n",
    "\n",
    "ds_baking = ds_baking.dropna(subset=['realEstate_name', 'rooms','bathrooms','description'])\n",
    "\n",
    "dimension_ds_limpia = ds_baking.shape\n",
    "\n",
    "print(f'The dimensions of the original DataFrame is:{dimension_ds_original} \\nversus the DataFrame after the deletions is:{dimension_ds_limpia}')"
   ]
  },
  {
   "attachments": {},
   "cell_type": "markdown",
   "id": "middle-china",
   "metadata": {},
   "source": [
    "#### Exercise 07. Which is the mean of prices in the population (level5 column) of \"Arroyomolinos (Madrid)\"? (★★☆)\n",
    "\n",
    "Print the obtained value."
   ]
  },
  {
   "cell_type": "code",
   "execution_count": 10,
   "id": "nuclear-belief",
   "metadata": {},
   "outputs": [
    {
     "name": "stdout",
     "output_type": "stream",
     "text": [
      "La media de los precios en Arroyomolinos (Madrid) es de :298332.32\n"
     ]
    }
   ],
   "source": [
    "# TODO\n",
    "\n",
    "media_population_arroyomolinos = ds_baking[ds_baking['level5'] == 'Arroyomolinos (Madrid)']['price'].mean()\n",
    "print(f'La media de los precios en Arroyomolinos (Madrid) es de :{media_population_arroyomolinos:.2f}')"
   ]
  },
  {
   "attachments": {},
   "cell_type": "markdown",
   "id": "concerned-radical",
   "metadata": {},
   "source": [
    "#### Exercise 08. Plot the histogram of prices for the population (level5 column) of \"Arroyomolinos (Madrid)\" and explain what you observe (★★☆)\n",
    "\n",
    "Print the histogram of the prices and write in the Markdown cell a brief analysis about the plot."
   ]
  },
  {
   "cell_type": "code",
   "execution_count": 11,
   "id": "sudden-message",
   "metadata": {},
   "outputs": [
    {
     "data": {
      "text/plain": [
       "<Axes: >"
      ]
     },
     "execution_count": 11,
     "metadata": {},
     "output_type": "execute_result"
    },
    {
     "data": {
      "image/png": "[encoded data removed]",
      "text/plain": [
       "<Figure size 640x480 with 1 Axes>"
      ]
     },
     "metadata": {},
     "output_type": "display_data"
    }
   ],
   "source": [
    "# TODO: Code\n",
    "ds_baking[ds_baking['level5'] == 'Arroyomolinos (Madrid)']['price'].hist()"
   ]
  },
  {
   "attachments": {},
   "cell_type": "markdown",
   "id": "impressed-combination",
   "metadata": {},
   "source": [
    "En el histograma se observa que los precios en la poblacion de Arroyomolinos (Madrid), van desde casi 160000 hasta casi 600000,\n",
    "pero los precios esta concentrados entre 160000 y 400000"
   ]
  },
  {
   "attachments": {},
   "cell_type": "markdown",
   "id": "actual-edinburgh",
   "metadata": {},
   "source": [
    "#### Exercise 09. Are the average prices of \"Valdemorillo\" and \"Galapagar\" the same? (★★☆)\n",
    "\n",
    "Print both average prices and then write a conclusion about them."
   ]
  },
  {
   "cell_type": "code",
   "execution_count": 12,
   "id": "numeric-commerce",
   "metadata": {},
   "outputs": [
    {
     "name": "stdout",
     "output_type": "stream",
     "text": [
      "La media de precios en Valdemorillo es : 371025.89 y la de Galapar es 368406.61\n",
      "Con este analisis podemos decir que las dos promedios son diferentes\n"
     ]
    }
   ],
   "source": [
    "# TODO\n",
    "media_population_v = ds_baking[ds_baking['level5'] == 'Valdemorillo']['price'].mean()\n",
    "media_population_g = ds_baking[ds_baking['level5'] == 'Galapagar']['price'].mean()\n",
    "print(f'La media de precios en Valdemorillo es : {media_population_v:.2f} y la de Galapar es {media_population_g:.2f}')\n",
    "print('Con este analisis podemos decir que las dos promedios son diferentes')"
   ]
  },
  {
   "attachments": {},
   "cell_type": "markdown",
   "id": "lonely-article",
   "metadata": {},
   "source": [
    "#### Exercise 10. Are the average prices per square meter (price/m2) of \"Valdemorillo\" and \"Galapagar\" the same? (★★☆)\n",
    "\n",
    "Print both average prices and then write a conclusion about it.\n",
    "\n",
    "Hint: Create a new column called `pps` (price per square meter) and then analyze the values."
   ]
  },
  {
   "cell_type": "code",
   "execution_count": 13,
   "id": "hourly-globe",
   "metadata": {},
   "outputs": [
    {
     "name": "stdout",
     "output_type": "stream",
     "text": [
      "La media de precios en Valdemorillo es : 1326.25 y la de Galapar es 1568.12\n",
      "Con este analisis podemos decir que las precios por metro cuadrado son diferentes en cada lugar\n"
     ]
    }
   ],
   "source": [
    "# TODO\n",
    "ds_baking['pps'] = ds_baking['price']/ds_baking['surface']\n",
    "\n",
    "media_population_v_m2 = ds_baking[ds_baking['level5'] == 'Valdemorillo']['pps'].mean()\n",
    "media_population_g_m2 = ds_baking[ds_baking['level5'] == 'Galapagar']['pps'].mean()\n",
    "print(f'La media de precios en Valdemorillo es : {media_population_v_m2:.2f} y la de Galapar es {media_population_g_m2:.2f}')\n",
    "print('Con este analisis podemos decir que las precios por metro cuadrado son diferentes en cada lugar')"
   ]
  },
  {
   "attachments": {},
   "cell_type": "markdown",
   "id": "pleasant-invite",
   "metadata": {},
   "source": [
    "#### Exercise 11. Analyze the relation between the surface and the price of the houses (★★☆)\n",
    "\n",
    "Hint: You can make a `scatter plot`, then write a conclusion about it."
   ]
  },
  {
   "cell_type": "code",
   "execution_count": 14,
   "id": "common-drilling",
   "metadata": {},
   "outputs": [
    {
     "data": {
      "image/png": "[encoded data removed]",
      "text/plain": [
       "<Figure size 640x480 with 1 Axes>"
      ]
     },
     "metadata": {},
     "output_type": "display_data"
    },
    {
     "data": {
      "image/png": "[encoded data removed]",
      "text/plain": [
       "<Figure size 640x480 with 1 Axes>"
      ]
     },
     "metadata": {},
     "output_type": "display_data"
    }
   ],
   "source": [
    "# TODO: Code\n",
    "plt.scatter(ds_baking['surface'], ds_baking['price'])\n",
    "\n",
    "plt.title('relation between the surface and the price of the houses')\n",
    "\n",
    "# Mostrar el gráfico\n",
    "plt.show()\n",
    "\n",
    "# como se observa un outliers en la variable surface, no se observa bien el grafico\n",
    "# procedo a filtrar solo para ver mejor el grafico y dar una conclusion mas certera\n",
    "\n",
    "# Crear una máscara booleana para seleccionar las filas que no tienen el valor 249000 en 'surface'\n",
    "mask = ds_baking['surface'] != 249000\n",
    "\n",
    "# Filtrar el DataFrame usando la máscara booleana\n",
    "ds_baking_filtered = ds_baking[mask]\n",
    "\n",
    "plt.scatter(ds_baking_filtered['surface'], ds_baking_filtered['price'])\n",
    "\n",
    "plt.title('relation between the surface and the price of the houses')\n",
    "\n",
    "# Mostrar el gráfico\n",
    "plt.show()"
   ]
  },
  {
   "attachments": {},
   "cell_type": "markdown",
   "id": "ahead-liquid",
   "metadata": {},
   "source": [
    "En este ultimo grafico se puede observar mejor la relacion entre ambas variables, donde podemos ver que los datos estan concentrados por \"surface\" entre 0 y 1000 pero tiene diferentes \"price\", y eso puede deberse a que esta en diferentes zonas y dependiendo de la zona puede ser mas caro o mas economico"
   ]
  },
  {
   "attachments": {},
   "cell_type": "markdown",
   "id": "coordinate-sunrise",
   "metadata": {},
   "source": [
    "#### Exercise 12. How many real estate agencies does the dataset contain? (★★☆)\n",
    "\n",
    "Print the obtained value."
   ]
  },
  {
   "cell_type": "code",
   "execution_count": 15,
   "id": "valid-honolulu",
   "metadata": {},
   "outputs": [
    {
     "data": {
      "text/plain": [
       "1787"
      ]
     },
     "execution_count": 15,
     "metadata": {},
     "output_type": "execute_result"
    }
   ],
   "source": [
    "# TODO\n",
    "ds_baking['realEstate_name'].nunique()"
   ]
  },
  {
   "attachments": {},
   "cell_type": "markdown",
   "id": "binding-ebony",
   "metadata": {},
   "source": [
    "#### Exercise 13. Which is the population (level5 column) that contains the most houses? (★★☆)\n",
    "\n",
    "Print both the population and the number of houses."
   ]
  },
  {
   "cell_type": "code",
   "execution_count": 16,
   "id": "static-perry",
   "metadata": {},
   "outputs": [
    {
     "name": "stdout",
     "output_type": "stream",
     "text": [
      "La poblacion:  Madrid Capital tiene el mayor numeros de casas, que son: 6333 casas\n"
     ]
    }
   ],
   "source": [
    "# TODO\n",
    "population_most_houses = ds_baking['level5'].value_counts(ascending=False)\n",
    "\n",
    "# obtengo el primer resultado\n",
    "populations_l = population_most_houses.index[0]\n",
    "most_houess = population_most_houses.iloc[0]\n",
    "\n",
    "# Imprimir el primer valor y su conteo\n",
    "print(f\"La poblacion: {populations_l} tiene el mayor numeros de casas, que son: {most_houess} casas\")"
   ]
  },
  {
   "attachments": {},
   "cell_type": "markdown",
   "id": "entire-classification",
   "metadata": {},
   "source": [
    "#### Exercise 14. Now let's work with the \"south belt\" of Madrid. Make a subset of the original DataFrame that contains the following populations (level5 column): \"Fuenlabrada\", \"Leganés\", \"Getafe\", \"Alcorcón\" (★★☆)\n",
    "\n",
    "Hint: Filter the original DataFrame using the column `level5` and the function `isin`."
   ]
  },
  {
   "cell_type": "code",
   "execution_count": 17,
   "id": "binary-input",
   "metadata": {},
   "outputs": [],
   "source": [
    "# TODO\n",
    "south_belt = ds[ds['level5'].isin([\"Fuenlabrada\", \"Leganés\", \"Getafe\", \"Alcorcón\"])]"
   ]
  },
  {
   "attachments": {},
   "cell_type": "markdown",
   "id": "severe-fisher",
   "metadata": {},
   "source": [
    "#### Exercise 15. Make a bar plot of the median of the prices and explain what you observe (you must use the subset obtained in Exercise 14) (★★★)\n",
    "\n",
    "Print the bar of the median of the prices and write in the Markdown cell a brief analysis about the plot."
   ]
  },
  {
   "cell_type": "code",
   "execution_count": 18,
   "id": "lyric-bunch",
   "metadata": {},
   "outputs": [
    {
     "data": {
      "image/png": "[encoded data removed]",
      "text/plain": [
       "<Figure size 1000x600 with 1 Axes>"
      ]
     },
     "metadata": {},
     "output_type": "display_data"
    }
   ],
   "source": [
    "# TODO: Code\n",
    "# calculo la mediana de los precios por poblacion\n",
    "median_prices_by_region = south_belt.groupby('level5', observed=True)['price'].median()\n",
    "\n",
    "plt.figure(figsize=(10, 6))\n",
    "median_prices_by_region.plot(kind='bar', color='skyblue')\n",
    "plt.xlabel('Región')\n",
    "plt.ylabel('Mediana de Precios')\n",
    "plt.title('Mediana de Precios por Región')\n",
    "plt.show()"
   ]
  },
  {
   "attachments": {},
   "cell_type": "markdown",
   "id": "sublime-newspaper",
   "metadata": {},
   "source": [
    "Se puede observar en los gráficos, que la población de Getafe, tiene una mediana de precios mas altos que las demás, seguidos por la población Alcorcón, que tiene una mediana de precios similares a Leganés, y la por último Fuenlabrada que tiene la mas baja."
   ]
  },
  {
   "attachments": {},
   "cell_type": "markdown",
   "id": "speaking-diamond",
   "metadata": {},
   "source": [
    "#### Exercise 16. Calculate the sample mean and variance of the variables: price, rooms, surface area and bathrooms (you must use the subset obtained in Exercise 14) (★★★)\n",
    "\n",
    "Print both values for each variable."
   ]
  },
  {
   "cell_type": "code",
   "execution_count": 19,
   "id": "random-feeling",
   "metadata": {},
   "outputs": [
    {
     "data": {
      "text/html": [
       "<div>\n",
       "<style scoped>\n",
       "    .dataframe tbody tr th:only-of-type {\n",
       "        vertical-align: middle;\n",
       "    }\n",
       "\n",
       "    .dataframe tbody tr th {\n",
       "        vertical-align: top;\n",
       "    }\n",
       "\n",
       "    .dataframe thead th {\n",
       "        text-align: right;\n",
       "    }\n",
       "</style>\n",
       "<table border=\"1\" class=\"dataframe\">\n",
       "  <thead>\n",
       "    <tr style=\"text-align: right;\">\n",
       "      <th></th>\n",
       "      <th>price</th>\n",
       "      <th>rooms</th>\n",
       "      <th>surface</th>\n",
       "      <th>bathrooms</th>\n",
       "    </tr>\n",
       "  </thead>\n",
       "  <tbody>\n",
       "    <tr>\n",
       "      <th>mean</th>\n",
       "      <td>2.230945e+05</td>\n",
       "      <td>3.017738</td>\n",
       "      <td>111.752224</td>\n",
       "      <td>1.633222</td>\n",
       "    </tr>\n",
       "    <tr>\n",
       "      <th>var</th>\n",
       "      <td>1.492137e+10</td>\n",
       "      <td>0.718886</td>\n",
       "      <td>4263.051760</td>\n",
       "      <td>0.571797</td>\n",
       "    </tr>\n",
       "  </tbody>\n",
       "</table>\n",
       "</div>"
      ],
      "text/plain": [
       "             price     rooms      surface  bathrooms\n",
       "mean  2.230945e+05  3.017738   111.752224   1.633222\n",
       "var   1.492137e+10  0.718886  4263.051760   0.571797"
      ]
     },
     "execution_count": 19,
     "metadata": {},
     "output_type": "execute_result"
    }
   ],
   "source": [
    "# TODO\n",
    "south_belt[[\"price\",\"rooms\",\"surface\",\"bathrooms\"]].agg([\"mean\",\"var\"])"
   ]
  },
  {
   "attachments": {},
   "cell_type": "markdown",
   "id": "revolutionary-matrix",
   "metadata": {},
   "source": [
    "#### Exercise 17. What is the most expensive house in each population? You must use the subset obtained in Exercise 14 (★★☆)\n",
    "\n",
    "Print both the address and the price of the selected house of each population. You can print a DataFrame or a single line for each population."
   ]
  },
  {
   "cell_type": "code",
   "execution_count": 20,
   "id": "fifteen-browse",
   "metadata": {},
   "outputs": [
    {
     "data": {
      "text/html": [
       "<div>\n",
       "<style scoped>\n",
       "    .dataframe tbody tr th:only-of-type {\n",
       "        vertical-align: middle;\n",
       "    }\n",
       "\n",
       "    .dataframe tbody tr th {\n",
       "        vertical-align: top;\n",
       "    }\n",
       "\n",
       "    .dataframe thead th {\n",
       "        text-align: right;\n",
       "    }\n",
       "</style>\n",
       "<table border=\"1\" class=\"dataframe\">\n",
       "  <thead>\n",
       "    <tr style=\"text-align: right;\">\n",
       "      <th></th>\n",
       "      <th>level5</th>\n",
       "      <th>price</th>\n",
       "      <th>address</th>\n",
       "    </tr>\n",
       "  </thead>\n",
       "  <tbody>\n",
       "    <tr>\n",
       "      <th>5585</th>\n",
       "      <td>Alcorcón</td>\n",
       "      <td>950000</td>\n",
       "      <td>Alcorcón</td>\n",
       "    </tr>\n",
       "    <tr>\n",
       "      <th>11561</th>\n",
       "      <td>Fuenlabrada</td>\n",
       "      <td>490000</td>\n",
       "      <td>Calle de Paulo Freire, 5, Fuenlabrada</td>\n",
       "    </tr>\n",
       "    <tr>\n",
       "      <th>2881</th>\n",
       "      <td>Getafe</td>\n",
       "      <td>1050000</td>\n",
       "      <td>Getafe</td>\n",
       "    </tr>\n",
       "    <tr>\n",
       "      <th>10412</th>\n",
       "      <td>Leganés</td>\n",
       "      <td>650000</td>\n",
       "      <td>Avenida Reina Sofía, Leganés</td>\n",
       "    </tr>\n",
       "  </tbody>\n",
       "</table>\n",
       "</div>"
      ],
      "text/plain": [
       "            level5    price                                address\n",
       "5585      Alcorcón   950000                               Alcorcón\n",
       "11561  Fuenlabrada   490000  Calle de Paulo Freire, 5, Fuenlabrada\n",
       "2881        Getafe  1050000                                 Getafe\n",
       "10412      Leganés   650000           Avenida Reina Sofía, Leganés"
      ]
     },
     "execution_count": 20,
     "metadata": {},
     "output_type": "execute_result"
    }
   ],
   "source": [
    "# TODO\n",
    "# Agrupa por poblaciones y encuentra el precio y la dirección de la casa más cara en cada población\n",
    "south_belt.loc[south_belt.groupby(\"level5\", observed=\"False\")[\"price\"].idxmax(), [\"level5\", \"price\", \"address\"]]"
   ]
  },
  {
   "attachments": {},
   "cell_type": "markdown",
   "id": "activated-knight",
   "metadata": {},
   "source": [
    "#### Exercise 18. Normalize the variable of prices for each population and plot the 4 histograms in the same plot (you must use the subset obtained in Exercise 14) (★★★)\n",
    "\n",
    "For the normalization method, you can use the one you consider; there is not a single correct answer to this question. Print the plot and write in the Markdown cell a brief analysis about the plot.\n",
    "\n",
    "Hint: You can help yourself by reviewing the *multihist* demo of Matplotlib."
   ]
  },
  {
   "cell_type": "code",
   "execution_count": 21,
   "id": "civic-meditation",
   "metadata": {},
   "outputs": [
    {
     "name": "stderr",
     "output_type": "stream",
     "text": [
      "/tmp/ipykernel_7066/4102609315.py:8: SettingWithCopyWarning: \n",
      "A value is trying to be set on a copy of a slice from a DataFrame.\n",
      "Try using .loc[row_indexer,col_indexer] = value instead\n",
      "\n",
      "See the caveats in the documentation: https://pandas.pydata.org/pandas-docs/stable/user_guide/indexing.html#returning-a-view-versus-a-copy\n",
      "  south_belt['normalized_price'] = south_belt.groupby(\"level5\", observed=\"False\")[\"price\"].transform(lambda x: scaler.fit_transform(x.values.reshape(-1, 1)).ravel())\n"
     ]
    },
    {
     "data": {
      "image/png": "[encoded data removed]",
      "text/plain": [
       "<Figure size 640x480 with 1 Axes>"
      ]
     },
     "metadata": {},
     "output_type": "display_data"
    }
   ],
   "source": [
    "# TODO\n",
    "# TODO\n",
    "from sklearn.preprocessing import MinMaxScaler\n",
    "import matplotlib.pyplot as plt\n",
    "\n",
    "# Normalizar los precios dentro de cada población\n",
    "scaler = MinMaxScaler()\n",
    "south_belt['normalized_price'] = south_belt.groupby(\"level5\", observed=\"False\")[\"price\"].transform(lambda x: scaler.fit_transform(x.values.reshape(-1, 1)).ravel())\n",
    "\n",
    "# Crear un gráfico de histogramas múltiple\n",
    "plt.figure()\n",
    "for pop in south_belt['level5'].unique():\n",
    "    subset = south_belt[south_belt['level5'] == pop]\n",
    "    plt.hist(subset['normalized_price'], alpha=0.4, label=f'Población {pop}', bins=10)\n",
    "\n",
    "# Añadir la leyenda y las etiquetas\n",
    "plt.legend(loc='upper right')\n",
    "plt.title('Histogramas Normalizados de Precios por Población')\n",
    "plt.xlabel('Precio Normalizado')\n",
    "plt.ylabel('Frecuencia')\n",
    "\n",
    "# Mostrar el gráfico\n",
    "plt.show()"
   ]
  },
  {
   "attachments": {},
   "cell_type": "markdown",
   "id": "precise-heavy",
   "metadata": {},
   "source": [
    "En el gráfico de histograma multiple se puede observar que las poblaciones no tienen una distribucion normal, cada region es diferente, la region Getafe, parece ser la mas distinta de las cuatro."
   ]
  },
  {
   "attachments": {},
   "cell_type": "markdown",
   "id": "patent-jonathan",
   "metadata": {},
   "source": [
    "#### Exercise 19. What can you say about the price per square meter (price/m2) between the towns of \"Getafe\" and \"Alcorcón\"? You must use the subset obtained in Exercise 14 (★★☆)\n",
    "\n",
    "Hint: Create a new column called `pps` (price per square meter) and then analyze the values."
   ]
  },
  {
   "cell_type": "code",
   "execution_count": 22,
   "id": "initial-liverpool",
   "metadata": {},
   "outputs": [
    {
     "name": "stderr",
     "output_type": "stream",
     "text": [
      "/tmp/ipykernel_7066/2729745392.py:2: SettingWithCopyWarning: \n",
      "A value is trying to be set on a copy of a slice from a DataFrame.\n",
      "Try using .loc[row_indexer,col_indexer] = value instead\n",
      "\n",
      "See the caveats in the documentation: https://pandas.pydata.org/pandas-docs/stable/user_guide/indexing.html#returning-a-view-versus-a-copy\n",
      "  south_belt['pps'] = south_belt['price'] / south_belt['surface']\n"
     ]
    },
    {
     "data": {
      "text/html": [
       "<div>\n",
       "<style scoped>\n",
       "    .dataframe tbody tr th:only-of-type {\n",
       "        vertical-align: middle;\n",
       "    }\n",
       "\n",
       "    .dataframe tbody tr th {\n",
       "        vertical-align: top;\n",
       "    }\n",
       "\n",
       "    .dataframe thead th {\n",
       "        text-align: right;\n",
       "    }\n",
       "</style>\n",
       "<table border=\"1\" class=\"dataframe\">\n",
       "  <thead>\n",
       "    <tr style=\"text-align: right;\">\n",
       "      <th></th>\n",
       "      <th>min</th>\n",
       "      <th>mean</th>\n",
       "      <th>max</th>\n",
       "    </tr>\n",
       "    <tr>\n",
       "      <th>level5</th>\n",
       "      <th></th>\n",
       "      <th></th>\n",
       "      <th></th>\n",
       "    </tr>\n",
       "  </thead>\n",
       "  <tbody>\n",
       "    <tr>\n",
       "      <th>Getafe</th>\n",
       "      <td>0.000000</td>\n",
       "      <td>2066.314949</td>\n",
       "      <td>3827.160494</td>\n",
       "    </tr>\n",
       "    <tr>\n",
       "      <th>Alcorcón</th>\n",
       "      <td>604.761905</td>\n",
       "      <td>2239.302480</td>\n",
       "      <td>3698.159509</td>\n",
       "    </tr>\n",
       "  </tbody>\n",
       "</table>\n",
       "</div>"
      ],
      "text/plain": [
       "                 min         mean          max\n",
       "level5                                        \n",
       "Getafe      0.000000  2066.314949  3827.160494\n",
       "Alcorcón  604.761905  2239.302480  3698.159509"
      ]
     },
     "execution_count": 22,
     "metadata": {},
     "output_type": "execute_result"
    }
   ],
   "source": [
    "# TODO\n",
    "south_belt['pps'] = south_belt['price'] / south_belt['surface']\n",
    "\n",
    "# Agrupa por 'level5' y calcula las métricas 'min', 'mean' y 'max' para 'pps', luego filtra por localidades\n",
    "south_belt.groupby('level5', observed=False)['pps'].agg(['min', 'mean', 'max']).loc[['Getafe', 'Alcorcón']]"
   ]
  },
  {
   "attachments": {},
   "cell_type": "markdown",
   "id": "enhanced-moscow",
   "metadata": {},
   "source": [
    "#### Exercise 20. Make the same plot for 4 different populations (level5 column) and rearrange them on the same graph. You must use the subset obtained in Exercise 14 (★★☆)\n",
    " \n",
    "Hint: Make a scatter plot of each population using subplots."
   ]
  },
  {
   "cell_type": "code",
   "execution_count": 23,
   "id": "accepting-airfare",
   "metadata": {},
   "outputs": [
    {
     "data": {
      "image/png": "[encoded data removed]",
      "text/plain": [
       "<Figure size 600x500 with 4 Axes>"
      ]
     },
     "metadata": {},
     "output_type": "display_data"
    }
   ],
   "source": [
    "# TODO\n",
    "\n",
    "# Crear subgráficos para cada población\n",
    "fig, axes = plt.subplots(2, 2, figsize=(6, 5), sharex=True, sharey=True)\n",
    "\n",
    "# Lista de poblaciones\n",
    "populations = south_belt['level5'].unique()\n",
    "\n",
    "# Trazar los subgráficos\n",
    "for i, pop in enumerate(populations):\n",
    "    subset = south_belt[south_belt['level5'] == pop]\n",
    "    row, col = divmod(i, 2)  # Dividir el índice para obtener la fila y la columna\n",
    "\n",
    "    # Trazar gráfico de dispersión\n",
    "    axes[row, col].scatter(subset['surface'], subset['price'], alpha=0.3, label=pop)\n",
    "    axes[row, col].set_title(f'Población {pop}')\n",
    "    axes[row, col].set_xlabel('Superficie')\n",
    "    axes[row, col].set_ylabel('Precio')\n",
    "\n",
    "# Ajustar el diseño del gráfico\n",
    "plt.tight_layout()  # Ajusta automáticamente la disposición de los subgráficos\n",
    "plt.show()"
   ]
  },
  {
   "attachments": {},
   "cell_type": "markdown",
   "id": "blocked-effects",
   "metadata": {},
   "source": [
    "#### Exercise 21. Make a plot of the coordinates (latitude and longitude columns) of the south belt of Madrid by color of each population (you must use the subset obtained in Exercise 14) (★★★★)\n",
    "\n",
    "Execute the following cell, and then start coding in the next one. You must implement a simple code that transforms the coordinates columns in a Python dictionary (add more information if needed) and then add it to the map"
   ]
  },
  {
   "cell_type": "code",
   "execution_count": 25,
   "id": "headed-privacy",
   "metadata": {},
   "outputs": [
    {
     "data": {
      "application/vnd.jupyter.widget-view+json": {
       "model_id": "193ecabd43dc4c7e922a5b1c5f18b217",
       "version_major": 2,
       "version_minor": 0
      },
      "text/plain": [
       "Map(center=[40.4168, -3.7038], controls=(ZoomControl(options=['position', 'zoom_in_text', 'zoom_in_title', 'zo…"
      ]
     },
     "execution_count": 25,
     "metadata": {},
     "output_type": "execute_result"
    }
   ],
   "source": [
    "from ipyleaflet import Map, basemaps\n",
    "\n",
    "# Map centered on (60 degrees latitude and -2.2 degrees longitude)\n",
    "# Latitude, longitude\n",
    "map = Map(center = (40.4168, -3.7038), zoom = 2, min_zoom = 1, max_zoom = 20,\n",
    "    basemap=basemaps.OpenStreetMap.Mapnik)\n",
    "\n",
    "map"
   ]
  },
  {
   "cell_type": "code",
   "execution_count": 26,
   "id": "present-mistress",
   "metadata": {},
   "outputs": [],
   "source": [
    "## HERE: plot the coordinates of the estates\n",
    "\n",
    "## PUT HERE YOUR CODE:\n",
    "from ipyleaflet import Map, basemaps, MarkerCluster, AwesomeIcon, Marker\n",
    "\n",
    "# Transformar las columnas de coordenadas en un diccionario\n",
    "coordinates_dict = {}\n",
    "for pop in south_belt[\"level5\"].unique():\n",
    "    subset = south_belt[south_belt[\"level5\"] == pop]\n",
    "    coordinates_dict[pop] = list(zip(subset[\"latitude\"], subset[\"longitude\"]))\n",
    "\n",
    "# Función para convertir comas a puntos y filtrar coordenadas con ceros\n",
    "def filter_and_convert_coordinates(coords):\n",
    "    filtered_coords = []\n",
    "    for lat, lon in coords:\n",
    "        lat = lat.replace(',', '.')\n",
    "        lon = lon.replace(',', '.')\n",
    "        if float(lat) != 0 and float(lon) != 0:\n",
    "            filtered_coords.append((float(lat), float(lon)))\n",
    "    return filtered_coords\n",
    "\n",
    "for pop in coordinates_dict.keys():\n",
    "    coordinates_dict[pop] = filter_and_convert_coordinates(coordinates_dict[pop])\n",
    "\n",
    "# Colores para cada población\n",
    "colors = [\"orange\", \"purple\", \"green\", \"red\"]\n",
    "\n",
    "# Recoger marcadores\n",
    "markers = []\n",
    "for i, pop in enumerate(coordinates_dict.keys()):\n",
    "    color = colors[i % len(colors)]  # Usa color desde la lista, reinicia si supera la longitud\n",
    "    for coord in coordinates_dict[pop]:\n",
    "        icon = AwesomeIcon(name=\"info\", marker_color=color)\n",
    "        marker = Marker(location=coord, icon=icon)\n",
    "        markers.append(marker)\n",
    "\n",
    "marker_cluster = MarkerCluster(markers=markers)\n",
    "map.add_layer(marker_cluster)"
   ]
  }
 ],
 "metadata": {
  "kernelspec": {
   "display_name": ".venv",
   "language": "python",
   "name": "python3"
  },
  "language_info": {
   "codemirror_mode": {
    "name": "ipython",
    "version": 3
   },
   "file_extension": ".py",
   "mimetype": "text/x-python",
   "name": "python",
   "nbconvert_exporter": "python",
   "pygments_lexer": "ipython3",
   "version": "3.11.4"
  }
 },
 "nbformat": 4,
 "nbformat_minor": 5
}
